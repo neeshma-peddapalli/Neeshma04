{
  "nbformat": 4,
  "nbformat_minor": 0,
  "metadata": {
    "colab": {
      "name": "MLR WITH PCA .ipynb",
      "provenance": []
    },
    "kernelspec": {
      "name": "python3",
      "display_name": "Python 3"
    },
    "language_info": {
      "name": "python"
    }
  },
  "cells": [
    {
      "cell_type": "code",
      "execution_count": null,
      "metadata": {
        "id": "JOcf2kwfZG0a"
      },
      "outputs": [],
      "source": [
        "import numpy as np \n",
        "import pandas as pd\n",
        "import matplotlib.pyplot as plt"
      ]
    },
    {
      "cell_type": "code",
      "source": [
        "from google.colab import drive\n",
        "drive.mount('/content/drive')"
      ],
      "metadata": {
        "colab": {
          "base_uri": "https://localhost:8080/"
        },
        "id": "TiZrC34JcgX0",
        "outputId": "2447e144-24bb-4e6a-bc8a-241a5e76ed50"
      },
      "execution_count": null,
      "outputs": [
        {
          "output_type": "stream",
          "name": "stdout",
          "text": [
            "Drive already mounted at /content/drive; to attempt to forcibly remount, call drive.mount(\"/content/drive\", force_remount=True).\n"
          ]
        }
      ]
    },
    {
      "cell_type": "code",
      "source": [
        "df = pd.read_csv(\"/content/drive/MyDrive/Colab Notebooks/Admission_Predict.csv\")\n",
        "print(df)"
      ],
      "metadata": {
        "colab": {
          "base_uri": "https://localhost:8080/"
        },
        "id": "w_VbF-5OcW-s",
        "outputId": "aa5c5e0c-3d47-440d-cb17-93fa828023f1"
      },
      "execution_count": null,
      "outputs": [
        {
          "output_type": "stream",
          "name": "stdout",
          "text": [
            "     Serial No.  GRE Score  TOEFL Score  University Rating  CGPA  \\\n",
            "0             1        337          118                  4  9.65   \n",
            "1             2        324          107                  4  8.87   \n",
            "2             3        316          104                  3  8.00   \n",
            "3             4        322          110                  3  8.67   \n",
            "4             5        314          103                  2  8.21   \n",
            "..          ...        ...          ...                ...   ...   \n",
            "395         396        324          110                  3  9.04   \n",
            "396         397        325          107                  3  9.11   \n",
            "397         398        330          116                  4  9.45   \n",
            "398         399        312          103                  3  8.78   \n",
            "399         400        333          117                  4  9.66   \n",
            "\n",
            "     Chance of Admit   \n",
            "0                0.92  \n",
            "1                0.76  \n",
            "2                0.72  \n",
            "3                0.80  \n",
            "4                0.65  \n",
            "..                ...  \n",
            "395              0.82  \n",
            "396              0.84  \n",
            "397              0.91  \n",
            "398              0.67  \n",
            "399              0.95  \n",
            "\n",
            "[400 rows x 6 columns]\n"
          ]
        }
      ]
    },
    {
      "cell_type": "code",
      "source": [
        "df.isna().sum()"
      ],
      "metadata": {
        "colab": {
          "base_uri": "https://localhost:8080/"
        },
        "id": "0LqEzatPdcZt",
        "outputId": "3f54e681-0368-45f7-fb88-4f466d05afae"
      },
      "execution_count": null,
      "outputs": [
        {
          "output_type": "execute_result",
          "data": {
            "text/plain": [
              "Serial No.           0\n",
              "GRE Score            0\n",
              "TOEFL Score          0\n",
              "University Rating    0\n",
              "CGPA                 0\n",
              "Chance of Admit      0\n",
              "dtype: int64"
            ]
          },
          "metadata": {},
          "execution_count": 64
        }
      ]
    },
    {
      "cell_type": "code",
      "source": [
        "x = df.iloc[:,0:-1].values\n",
        "y = df.iloc[:,-1].values"
      ],
      "metadata": {
        "id": "I-fvwbzcdjKB"
      },
      "execution_count": null,
      "outputs": []
    },
    {
      "cell_type": "code",
      "source": [
        "from sklearn.preprocessing import StandardScaler\n",
        "sc= StandardScaler()\n",
        "x = sc.fit_transform(x)\n",
        "print(x)"
      ],
      "metadata": {
        "colab": {
          "base_uri": "https://localhost:8080/"
        },
        "id": "Vq5eg5knd3qk",
        "outputId": "a116c7ef-5e3b-4f9c-a406-f5724a79ee8b"
      },
      "execution_count": null,
      "outputs": [
        {
          "output_type": "stream",
          "name": "stdout",
          "text": [
            "[[-1.72772608  1.76210664  1.74697064  0.79882862  1.76481828]\n",
            " [-1.7190658   0.62765641 -0.06763531  0.79882862  0.45515126]\n",
            " [-1.71040552 -0.07046681 -0.56252785 -0.07660001 -1.00563118]\n",
            " ...\n",
            " [ 1.71040552  1.15124883  1.41704229  0.79882862  1.42900622]\n",
            " [ 1.7190658  -0.41952842 -0.72749202 -0.07660001  0.30403584]\n",
            " [ 1.72772608  1.41304503  1.58200646  0.79882862  1.78160888]]\n"
          ]
        }
      ]
    },
    {
      "cell_type": "code",
      "source": [
        "from sklearn.decomposition import PCA\n",
        "pca = PCA(n_components=None)\n",
        "x = pca.fit_transform(x)\n",
        "print(pca.explained_variance_ratio_)\n",
        "plt.plot(np.cumsum(pca.explained_variance_ratio_))"
      ],
      "metadata": {
        "colab": {
          "base_uri": "https://localhost:8080/",
          "height": 300
        },
        "id": "h3UgVx9KgbWj",
        "outputId": "0c5e1bb8-387d-407e-a6e9-765cff7b418d"
      },
      "execution_count": null,
      "outputs": [
        {
          "output_type": "stream",
          "name": "stdout",
          "text": [
            "[0.66617989 0.19834471 0.07284174 0.0325518  0.03008185]\n"
          ]
        },
        {
          "output_type": "execute_result",
          "data": {
            "text/plain": [
              "[<matplotlib.lines.Line2D at 0x7f674fba98d0>]"
            ]
          },
          "metadata": {},
          "execution_count": 67
        },
        {
          "output_type": "display_data",
          "data": {
            "text/plain": [
              "<Figure size 432x288 with 1 Axes>"
            ],
            "image/png": "[encoded data removed]"
          },
          "metadata": {
            "needs_background": "light"
          }
        }
      ]
    },
    {
      "cell_type": "code",
      "source": [
        "from sklearn.decomposition import PCA\n",
        "pca = PCA(n_components=3)\n",
        "x = pca.fit_transform(x)\n",
        "print(pca.explained_variance_ratio_)"
      ],
      "metadata": {
        "colab": {
          "base_uri": "https://localhost:8080/"
        },
        "id": "bT9QOOZIhaBU",
        "outputId": "93809cfc-e7e5-4d7c-f6ac-f3700ea41e2a"
      },
      "execution_count": null,
      "outputs": [
        {
          "output_type": "stream",
          "name": "stdout",
          "text": [
            "[0.66617989 0.19834471 0.07284174]\n"
          ]
        }
      ]
    },
    {
      "cell_type": "code",
      "source": [
        "from sklearn.model_selection import train_test_split\n",
        "x_train,x_test, y_train,y_test = train_test_split(x,y,test_size=0.25,random_state=50)"
      ],
      "metadata": {
        "id": "kRnve-eNmLRG"
      },
      "execution_count": null,
      "outputs": []
    },
    {
      "cell_type": "code",
      "source": [
        "from sklearn.linear_model import LinearRegression\n",
        "lr = LinearRegression()\n",
        "lr.fit(x_train,y_train)"
      ],
      "metadata": {
        "colab": {
          "base_uri": "https://localhost:8080/"
        },
        "id": "ZLHl1EhlmnuG",
        "outputId": "86176dc4-5779-40cd-83ac-29ad06b86a8c"
      },
      "execution_count": null,
      "outputs": [
        {
          "output_type": "execute_result",
          "data": {
            "text/plain": [
              "LinearRegression()"
            ]
          },
          "metadata": {},
          "execution_count": 70
        }
      ]
    },
    {
      "cell_type": "code",
      "source": [
        "y_pred =lr.predict(x_test)\n",
        "print(y_pred)"
      ],
      "metadata": {
        "colab": {
          "base_uri": "https://localhost:8080/"
        },
        "id": "_tfld_0MnAK_",
        "outputId": "f17c18ce-722b-4759-e492-56e408735dce"
      },
      "execution_count": null,
      "outputs": [
        {
          "output_type": "stream",
          "name": "stdout",
          "text": [
            "[0.68001674 0.68137613 0.66721795 0.95711359 0.63555032 0.77713339\n",
            " 0.67429662 0.84700323 0.85493615 0.78667976 0.5023922  0.61108935\n",
            " 0.65379939 0.62171521 0.51634239 0.54227666 0.47528908 0.80622066\n",
            " 0.66762821 0.64830583 0.88806095 0.86003785 0.84287197 0.88557202\n",
            " 0.61807753 0.65379522 0.63806153 0.8862671  0.76430895 0.73810357\n",
            " 0.92134829 0.78782281 0.61874024 0.73763893 0.67380048 0.61232644\n",
            " 0.60615924 0.71747206 0.81766936 0.71887921 0.9107427  0.65076229\n",
            " 0.93864337 0.66742381 0.67024083 0.61712601 0.65699699 0.85016131\n",
            " 0.93543797 0.54115303 0.47139013 0.57166861 0.80551519 0.74739094\n",
            " 0.62884919 0.66087183 0.93667847 0.72333164 0.90762761 0.93190961\n",
            " 0.70649568 0.81733978 0.74287773 0.84163485 0.55978829 0.69663153\n",
            " 0.86275192 0.70536745 0.70605526 0.7162766  0.74110662 0.75366821\n",
            " 0.71823422 0.78541543 0.66189195 0.61524209 0.79252017 0.68771458\n",
            " 0.72965742 0.54210407 0.7325226  0.65230698 0.85276812 0.79866952\n",
            " 0.8540149  0.50158145 0.93317919 0.51240246 0.59342518 0.80708251\n",
            " 0.90445931 0.74062495 0.61195315 0.82577736 0.71970134 0.72484361\n",
            " 0.59995407 0.94539467 0.76052147 0.72081747]\n"
          ]
        }
      ]
    },
    {
      "cell_type": "code",
      "source": [
        "!pip install sklearn"
      ],
      "metadata": {
        "colab": {
          "base_uri": "https://localhost:8080/"
        },
        "id": "Z3OlWAYGqhbe",
        "outputId": "93c771f5-6f49-4d55-9c1a-c627ba9a7803"
      },
      "execution_count": null,
      "outputs": [
        {
          "output_type": "stream",
          "name": "stdout",
          "text": [
            "Requirement already satisfied: sklearn in /usr/local/lib/python3.7/dist-packages (0.0)\n",
            "Requirement already satisfied: scikit-learn in /usr/local/lib/python3.7/dist-packages (from sklearn) (1.0.2)\n",
            "Requirement already satisfied: joblib>=0.11 in /usr/local/lib/python3.7/dist-packages (from scikit-learn->sklearn) (1.1.0)\n",
            "Requirement already satisfied: threadpoolctl>=2.0.0 in /usr/local/lib/python3.7/dist-packages (from scikit-learn->sklearn) (3.1.0)\n",
            "Requirement already satisfied: numpy>=1.14.6 in /usr/local/lib/python3.7/dist-packages (from scikit-learn->sklearn) (1.21.5)\n",
            "Requirement already satisfied: scipy>=1.1.0 in /usr/local/lib/python3.7/dist-packages (from scikit-learn->sklearn) (1.4.1)\n"
          ]
        }
      ]
    },
    {
      "cell_type": "code",
      "source": [
        "from sklearn.metrics import r2_score,mean_absolute_error,mean_squared_error\n",
        "r2 = r2_score(y_test,y_pred)\n",
        "mae=mean_absolute_error(y_test,y_pred)\n",
        "mse=mean_squared_error(y_test,y_pred)\n",
        "rmse=np.sqrt(mse)\n",
        "print('r2_score=',r2)\n",
        "print('mae=',mae)\n",
        "print('mse=',mse)\n",
        "print('rmse=',rmse)\n",
        "\n"
      ],
      "metadata": {
        "colab": {
          "base_uri": "https://localhost:8080/"
        },
        "id": "GyujnxxjnQEC",
        "outputId": "721df068-6eb9-4e74-97ec-1c022ec2340b"
      },
      "execution_count": null,
      "outputs": [
        {
          "output_type": "stream",
          "name": "stdout",
          "text": [
            "r2_score= 0.7422967541480304\n",
            "mae= 0.048547626613811755\n",
            "mse= 0.004337338905123036\n",
            "rmse= 0.06585847633466049\n"
          ]
        }
      ]
    },
    {
      "cell_type": "code",
      "source": [
        "plt.scatter(y_test, y_pred, color = 'red')\n",
        "plt.scatter(y_test, y_test, color = 'blue')\n",
        "plt.xlabel('Actual vales')\n",
        "plt.ylabel('Predicted values')\n",
        "plt.title('Actual vs Prediceted values')\n",
        "plt.show()"
      ],
      "metadata": {
        "colab": {
          "base_uri": "https://localhost:8080/",
          "height": 295
        },
        "id": "MkLeaeThomqZ",
        "outputId": "811ecc4e-b9b5-44e5-9ca3-ec51f9752d85"
      },
      "execution_count": null,
      "outputs": [
        {
          "output_type": "display_data",
          "data": {
            "text/plain": [
              "<Figure size 432x288 with 1 Axes>"
            ],
            "image/png": "[encoded data removed]"
          },
          "metadata": {
            "needs_background": "light"
          }
        }
      ]
    }
  ]
}